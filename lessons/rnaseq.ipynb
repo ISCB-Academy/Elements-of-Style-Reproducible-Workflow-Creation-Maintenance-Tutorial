{
 "cells": [
  {
   "cell_type": "markdown",
   "metadata": {},
   "source": [
    "# Finding and retrieving SRA data with SRA-explorer"
   ]
  },
  {
   "cell_type": "markdown",
   "metadata": {},
   "source": [
    "## Find data \n",
    "\n",
    "Visit https://sra-explorer.info/#\n",
    "\n",
    "Query with\n",
    "\n",
    "- free text, eg human, lung, diabetes, mouce\n",
    "- accession number ID of interest from SRA\n",
    "\n",
    "**Example search**: `human rna cell illumina`\n",
    "\n",
    "![](assets/sra-explorer-demo.gif)"
   ]
  },
  {
   "cell_type": "markdown",
   "metadata": {},
   "source": [
    "We can retrieve\n",
    "\n",
    "- https paths to FASTQ\n",
    "- download bash script\n",
    "- full metadata file with paths and information in a tabular (csv) format\n",
    "\n",
    "The metadata include the following fields:\n",
    "\n",
    "1. **Accession**\n",
    "2. **Title**\n",
    "3. **Platform**\n",
    "4. **Total bases**\n",
    "5. **Create date**\n",
    "6. **SRA URL**\n",
    "7. **SRA filename**\n",
    "8. **SRA nice filename**\n",
    "9. **FastQ URL**\n",
    "10. **FastQ Aspera URL**\n",
    "11. **FastQ filename**\n",
    "12. **FastQ nice filename**\n",
    "\n",
    "\n",
    "Example:\n",
    "\n",
    "| Accession   | Title                                                | Platform              | Total bases | Create date   | SRA URL                                                                                                 | SRA filename    | SRA nice filename                                                | FastQ URL                                                                        | FastQ Aspera URL                                                                     | FastQ filename         | FastQ nice filename                                                     |\n",
    "|-------------|------------------------------------------------------|-----------------------|-------------|---------------|---------------------------------------------------------------------------------------------------------|-----------------|------------------------------------------------------------------|----------------------------------------------------------------------------------|--------------------------------------------------------------------------------------|------------------------|-------------------------------------------------------------------------|\n",
    "| SRR12421213 | GSM4718280: A549 24 hpi _rep1; Homo sapiens; RNA-Seq | Illumina NovaSeq 6000 | 45952       | 1597100400000 | ftp://ftp-trace.ncbi.nlm.nih.gov/sra/sra-instant/reads/ByRun/sra/SRR/SRR124/SRR12421213/SRR12421213.sra | SRR12421213.sra | SRR12421213_GSM4718280_A549_24_hpi_rep1_Homo_sapiens_RNA-Seq.sra | ftp://ftp.sra.ebi.ac.uk/vol1/fastq/SRR124/013/SRR12421213/SRR12421213_1.fastq.gz | era-fasp@fasp.sra.ebi.ac.uk:vol1/fastq/SRR124/013/SRR12421213/SRR12421213_1.fastq.gz | SRR12421213_1.fastq.gz | SRR12421213_GSM4718280_A549_24_hpi_rep1_Homo_sapiens_RNA-Seq_1.fastq.gz |\n",
    "| SRR12421213 | GSM4718280: A549 24 hpi _rep1; Homo sapiens; RNA-Seq | Illumina NovaSeq 6000 | 45952       | 1597100400000 | ftp://ftp-trace.ncbi.nlm.nih.gov/sra/sra-instant/reads/ByRun/sra/SRR/SRR124/SRR12421213/SRR12421213.sra | SRR12421213.sra | SRR12421213_GSM4718280_A549_24_hpi_rep1_Homo_sapiens_RNA-Seq.sra | ftp://ftp.sra.ebi.ac.uk/vol1/fastq/SRR124/013/SRR12421213/SRR12421213_2.fastq.gz | era-fasp@fasp.sra.ebi.ac.uk:vol1/fastq/SRR124/013/SRR12421213/SRR12421213_2.fastq.gz | SRR12421213_2.fastq.gz | SRR12421213_GSM4718280_A549_24_hpi_rep1_Homo_sapiens_RNA-Seq_2.fastq.gz |\n",
    "| SRR12421212 | GSM4718279: A549 12 hpi _rep1; Homo sapiens; RNA-Seq | Illumina NovaSeq 6000 | 40923       | 1597100400000 | ftp://ftp-trace.ncbi.nlm.nih.gov/sra/sra-instant/reads/ByRun/sra/SRR/SRR124/SRR12421212/SRR12421212.sra | SRR12421212.sra | SRR12421212_GSM4718279_A549_12_hpi_rep1_Homo_sapiens_RNA-Seq.sra | ftp://ftp.sra.ebi.ac.uk/vol1/fastq/SRR124/012/SRR12421212/SRR12421212_1.fastq.gz | era-fasp@fasp.sra.ebi.ac.uk:vol1/fastq/SRR124/012/SRR12421212/SRR12421212_1.fastq.gz | SRR12421212_1.fastq.gz | SRR12421212_GSM4718279_A549_12_hpi_rep1_Homo_sapiens_RNA-Seq_1.fastq.gz |\n",
    "| SRR12421212 | GSM4718279: A549 12 hpi _rep1; Homo sapiens; RNA-Seq | Illumina NovaSeq 6000 | 40923       | 1597100400000 | ftp://ftp-trace.ncbi.nlm.nih.gov/sra/sra-instant/reads/ByRun/sra/SRR/SRR124/SRR12421212/SRR12421212.sra | SRR12421212.sra | SRR12421212_GSM4718279_A549_12_hpi_rep1_Homo_sapiens_RNA-Seq.sra | ftp://ftp.sra.ebi.ac.uk/vol1/fastq/SRR124/012/SRR12421212/SRR12421212_2.fastq.gz | era-fasp@fasp.sra.ebi.ac.uk:vol1/fastq/SRR124/012/SRR12421212/SRR12421212_2.fastq.gz | SRR12421212_2.fastq.gz | SRR12421212_GSM4718279_A549_12_hpi_rep1_Homo_sapiens_RNA-Seq_2.fastq.gz |"
   ]
  },
  {
   "cell_type": "markdown",
   "metadata": {},
   "source": [
    "The simplest way to retrieve the data is with `curl` or `wget` using the ftp links:\n",
    "\n",
    "Example:\n",
    "\n",
    "```bash\n",
    "wget ftp://ftp.sra.ebi.ac.uk/vol1/fastq/SRR124/013/SRR12421213/SRR12421213_1.fastq.gz\n",
    "wget ftp://ftp.sra.ebi.ac.uk/vol1/fastq/SRR124/013/SRR12421213/SRR12421213_2.fastq.gz\n",
    "wget ftp://ftp.sra.ebi.ac.uk/vol1/fastq/SRR124/012/SRR12421212/SRR12421212_1.fastq.gz\n",
    "wget ftp://ftp.sra.ebi.ac.uk/vol1/fastq/SRR124/012/SRR12421212/SRR12421212_2.fastq.gz\n",
    "```"
   ]
  }
 ],
 "metadata": {
  "kernelspec": {
   "display_name": "Python 3 (ipykernel)",
   "language": "python",
   "name": "python3"
  },
  "language_info": {
   "codemirror_mode": {
    "name": "ipython",
    "version": 3
   },
   "file_extension": ".py",
   "mimetype": "text/x-python",
   "name": "python",
   "nbconvert_exporter": "python",
   "pygments_lexer": "ipython3",
   "version": "3.10.0"
  }
 },
 "nbformat": 4,
 "nbformat_minor": 4
}
