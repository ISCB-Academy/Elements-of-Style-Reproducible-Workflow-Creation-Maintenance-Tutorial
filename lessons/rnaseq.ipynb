{
 "cells": [
  {
   "cell_type": "markdown",
   "metadata": {},
   "source": [
    "# Finding and retrieving SRA data with SRA-explorer"
   ]
  },
  {
   "cell_type": "markdown",
   "metadata": {},
   "source": [
    "## Find data \n",
    "\n",
    "Visit https://sra-explorer.info/#\n",
    "\n",
    "Query with\n",
    "\n",
    "- free text, eg human, lung, diabetes, mouce\n",
    "- accession number ID of interest from SRA\n",
    "\n",
    "**Example search**: `human rna cell illumina`\n",
    "\n",
    "![](assets/sra-explorer-demo.gif)"
   ]
  },
  {
   "cell_type": "markdown",
   "metadata": {},
   "source": [
    "We can retrieve\n",
    "\n",
    "- https paths to FASTQ\n",
    "- download bash script\n",
    "- full metadata file with paths and information in a tabular (csv) format\n",
    "\n",
    "The metadata include the following fields:\n",
    "\n",
    "1. **Accession**\n",
    "2. **Title**\n",
    "3. **Platform**\n",
    "4. **Total bases**\n",
    "5. **Create date**\n",
    "6. **SRA URL**\n",
    "7. **SRA filename**\n",
    "8. **SRA nice filename**\n",
    "9. **FastQ URL**\n",
    "10. **FastQ Aspera URL**\n",
    "11. **FastQ filename**\n",
    "12. **FastQ nice filename**\n",
    "\n",
    "\n",
    "Example:\n",
    "\n",
    "| Accession   | Title                                                | Platform              | Total bases | Create date   | SRA URL                                                                                                 | SRA filename    | SRA nice filename                                                | FastQ URL                                                                        | FastQ Aspera URL                                                                     | FastQ filename         | FastQ nice filename                                                     |\n",
    "|-------------|------------------------------------------------------|-----------------------|-------------|---------------|---------------------------------------------------------------------------------------------------------|-----------------|------------------------------------------------------------------|----------------------------------------------------------------------------------|--------------------------------------------------------------------------------------|------------------------|-------------------------------------------------------------------------|\n",
    "| SRR12421213 | GSM4718280: A549 24 hpi _rep1; Homo sapiens; RNA-Seq | Illumina NovaSeq 6000 | 45952       | 1597100400000 | ftp://ftp-trace.ncbi.nlm.nih.gov/sra/sra-instant/reads/ByRun/sra/SRR/SRR124/SRR12421213/SRR12421213.sra | SRR12421213.sra | SRR12421213_GSM4718280_A549_24_hpi_rep1_Homo_sapiens_RNA-Seq.sra | ftp://ftp.sra.ebi.ac.uk/vol1/fastq/SRR124/013/SRR12421213/SRR12421213_1.fastq.gz | era-fasp@fasp.sra.ebi.ac.uk:vol1/fastq/SRR124/013/SRR12421213/SRR12421213_1.fastq.gz | SRR12421213_1.fastq.gz | SRR12421213_GSM4718280_A549_24_hpi_rep1_Homo_sapiens_RNA-Seq_1.fastq.gz |\n",
    "| SRR12421213 | GSM4718280: A549 24 hpi _rep1; Homo sapiens; RNA-Seq | Illumina NovaSeq 6000 | 45952       | 1597100400000 | ftp://ftp-trace.ncbi.nlm.nih.gov/sra/sra-instant/reads/ByRun/sra/SRR/SRR124/SRR12421213/SRR12421213.sra | SRR12421213.sra | SRR12421213_GSM4718280_A549_24_hpi_rep1_Homo_sapiens_RNA-Seq.sra | ftp://ftp.sra.ebi.ac.uk/vol1/fastq/SRR124/013/SRR12421213/SRR12421213_2.fastq.gz | era-fasp@fasp.sra.ebi.ac.uk:vol1/fastq/SRR124/013/SRR12421213/SRR12421213_2.fastq.gz | SRR12421213_2.fastq.gz | SRR12421213_GSM4718280_A549_24_hpi_rep1_Homo_sapiens_RNA-Seq_2.fastq.gz |\n",
    "| SRR12421212 | GSM4718279: A549 12 hpi _rep1; Homo sapiens; RNA-Seq | Illumina NovaSeq 6000 | 40923       | 1597100400000 | ftp://ftp-trace.ncbi.nlm.nih.gov/sra/sra-instant/reads/ByRun/sra/SRR/SRR124/SRR12421212/SRR12421212.sra | SRR12421212.sra | SRR12421212_GSM4718279_A549_12_hpi_rep1_Homo_sapiens_RNA-Seq.sra | ftp://ftp.sra.ebi.ac.uk/vol1/fastq/SRR124/012/SRR12421212/SRR12421212_1.fastq.gz | era-fasp@fasp.sra.ebi.ac.uk:vol1/fastq/SRR124/012/SRR12421212/SRR12421212_1.fastq.gz | SRR12421212_1.fastq.gz | SRR12421212_GSM4718279_A549_12_hpi_rep1_Homo_sapiens_RNA-Seq_1.fastq.gz |\n",
    "| SRR12421212 | GSM4718279: A549 12 hpi _rep1; Homo sapiens; RNA-Seq | Illumina NovaSeq 6000 | 40923       | 1597100400000 | ftp://ftp-trace.ncbi.nlm.nih.gov/sra/sra-instant/reads/ByRun/sra/SRR/SRR124/SRR12421212/SRR12421212.sra | SRR12421212.sra | SRR12421212_GSM4718279_A549_12_hpi_rep1_Homo_sapiens_RNA-Seq.sra | ftp://ftp.sra.ebi.ac.uk/vol1/fastq/SRR124/012/SRR12421212/SRR12421212_2.fastq.gz | era-fasp@fasp.sra.ebi.ac.uk:vol1/fastq/SRR124/012/SRR12421212/SRR12421212_2.fastq.gz | SRR12421212_2.fastq.gz | SRR12421212_GSM4718279_A549_12_hpi_rep1_Homo_sapiens_RNA-Seq_2.fastq.gz |"
   ]
  },
  {
   "cell_type": "markdown",
   "metadata": {},
   "source": [
    "The simplest way to retrieve the data is with `curl` or `wget` using the ftp links:\n",
    "\n",
    "Example:\n",
    "\n",
    "```bash\n",
    "wget ftp://ftp.sra.ebi.ac.uk/vol1/fastq/SRR124/013/SRR12421213/SRR12421213_1.fastq.gz\n",
    "wget ftp://ftp.sra.ebi.ac.uk/vol1/fastq/SRR124/013/SRR12421213/SRR12421213_2.fastq.gz\n",
    "wget ftp://ftp.sra.ebi.ac.uk/vol1/fastq/SRR124/012/SRR12421212/SRR12421212_1.fastq.gz\n",
    "wget ftp://ftp.sra.ebi.ac.uk/vol1/fastq/SRR124/012/SRR12421212/SRR12421212_2.fastq.gz\n",
    "```"
   ]
  },
  {
   "cell_type": "markdown",
   "metadata": {},
   "source": [
    "# A. nf-core/rnaseq: An end-to-end RNAseq workflow"
   ]
  },
  {
   "cell_type": "markdown",
   "metadata": {},
   "source": [
    "![](https://github.com/TheJacksonLaboratory/nf-core-rnaseq/raw/sk-sahu-dsl-1-latest/docs/images/nf-core-rnaseq_logo.png)"
   ]
  },
  {
   "cell_type": "markdown",
   "metadata": {},
   "source": [
    "## Pipeline configuration logic\n"
   ]
  },
  {
   "cell_type": "markdown",
   "metadata": {},
   "source": [
    "### 1. Select `input` folder with paired-end FASTQ files \n",
    "\n",
    "\n",
    "\n",
    "**Example configuration options**\n",
    "\n",
    "```bash\n",
    "nextflow run main.nf --input 'testdata/*_R{1,2}.fastq.gz'\n",
    "nextflow run main.nf --input 'gs://rnaseq-examples/inputs/*_{1,2}.fq'\n",
    "\n",
    "```\n",
    "\n",
    "#### a. The folder\n",
    "We can use local folders when working in a cluster environment or locally on our laptops, or google cloud buckets when working in JAX CloudOS.\n",
    "\n",
    "For example, we have prepared for the class an example folder with data in the google bucket named \n",
    "\n",
    "`gs://rnaseq-examples/inputs`\n",
    "\n",
    "#### b. The regular expression to match paired-end reads\n",
    "\n",
    "For processing the paired end reads correctly, we need to define the  regular expression or pattern that matches the pairs. This is dependant on our FASTQ files naming.\n",
    "\n",
    "Frequently used suffixes that can be found in FASTQ filenames are:\n",
    "\n",
    "- `fq`\n",
    "- `fq.gz` (compressed)\n",
    "- `fastq`\n",
    "- `fastq.gz` (compressed)\n",
    "\n",
    "\n",
    "The enclosed in curly brucket text denotes `either or`, for examples in the expression `*_{1,2}.fq`\n",
    "we will match any pair that has a suffix \n",
    "\n",
    "**either**: `*_1.fq`\n",
    "**or**: `*_2.fq`\n",
    "\n",
    "\n",
    "The asterisk expression means `everything` or `any match`, and we use it to capture all the files that have this pattern of suffixes, and any basename."
   ]
  },
  {
   "cell_type": "markdown",
   "metadata": {},
   "source": [
    "### 2. Select `genome`\n",
    "\n",
    "**Available:**\n",
    "\n",
    "Human:\n",
    " - GRCh37\n",
    " - GRCh38\n",
    "\n",
    "Mouse:\n",
    " - GRCm38\n",
    " - `< add your custom! >`\n",
    " \n",
    "And more organisms, see here for available in the [**igenomes.config**](https://github.com/TheJacksonLaboratory/nf-core-rnaseq/blob/sk-sahu-dsl-1-latest/conf/igenomes.config) file\n",
    "\n",
    "\n",
    "```bash\n",
    "nextflow run main.nf --genome 'GRCm38' ..\n",
    "nextflow run main.nf --genome 'GRCh37' ..\n",
    "```\n",
    "\n",
    "### Running with my own custom genome? 🤔\n",
    "\n",
    "We can add and use in the same way any custom genome we want for our own research by editting the  [**igenomes.config**](https://github.com/TheJacksonLaboratory/nf-core-rnaseq/blob/sk-sahu-dsl-1-latest/conf/igenomes.config) file and providing the required reference files (eg fasta, bed, STAR indices) for our custom genome.\n",
    "\n",
    "\n",
    "The addition in the file could look like this:\n",
    "\n",
    "\n",
    "```groovy\n",
    "// contents of igenomes.config\n",
    "\n",
    "params {\n",
    "  genomes {\n",
    "    'my-custom-genome' {\n",
    "      fasta       = \"path-to/WholeGenomeFasta/genome.fa\"\n",
    "      bwa         = \"path-to/BWAIndex/genome.fa\"\n",
    "      bowtie2     = \"path-to/Bowtie2Index/\"\n",
    "      star        = \"path-to/STARIndex/\"\n",
    "      bismark     = \"path-to/BismarkIndex/\"\n",
    "      gtf         = \"path-to/genes.gtf\"\n",
    "      bed12       = \"path-to/genes.bed\"\n",
    "      mito_name   = \"MT\"\n",
    "      macs_gsize  = \"2.7e9\"\n",
    "      blacklist   = \"path-to/my-custom-genome-blacklist.bed\"\n",
    "    }\n",
    "      .\n",
    "      .\n",
    "      .\n",
    "       \n",
    "  }\n",
    "\n",
    "```\n",
    "\n",
    "We could then run similarly:\n",
    "\n",
    "```bash\n",
    "nextflow run main.nf --genome 'my-custom-genome' ..\n",
    "```\n",
    "\n",
    "\n",
    "**NOTE**:\n",
    "\n",
    "If you have a custom genome that you would like to use please reach out via Slack or email to get help for your analysis."
   ]
  },
  {
   "cell_type": "markdown",
   "metadata": {},
   "source": [
    "## 3. Prepare `input` folder\n",
    "\n",
    "For the class, we have prepared an input folder in the location\n",
    "\n",
    "**`gs://rnaseq-examples/inputs`**\n",
    "\n",
    "You can find in our current workspace by clicking\n",
    "\n",
    "`Data` > `rnaseq-examples` as shown below.\n",
    "\n",
    "![](assets/add-data.gif)"
   ]
  },
  {
   "cell_type": "markdown",
   "metadata": {},
   "source": [
    "## B. Running an example in the JAX CloudOS"
   ]
  },
  {
   "cell_type": "markdown",
   "metadata": {},
   "source": [
    "An example run can be as simple as\n",
    "\n",
    "### 1. provide `input` reads folder \n",
    "eg. `gs://rnaseq-examples/inputs/`\n",
    "### 2. specify regular expression for paired end read files \n",
    "eg `*_{1,2}.fq` \n",
    "### 3. specify `genome` \n",
    "eg `GRCh37`\n",
    "\n",
    "The command in a terminal would look like this:\n",
    "\n",
    "```bash\n",
    "nextflow run https://github.com/TheJacksonLaboratory/nf-core-rnaseq \\\n",
    "--input 'gs://rnaseq-examples/inputs/*_{1,2}.fq' \\\n",
    "--genome GRCh37\n",
    "```\n",
    "\n",
    "We can run the same in JAX CloudOS, with the exact same arguments."
   ]
  },
  {
   "cell_type": "markdown",
   "metadata": {},
   "source": [
    "For the class we have prepared an example run. To reproduce the analysis and inspect the parameters used you can click the `Clone` button in the link below page:\n",
    "\n",
    "\n",
    "## https://cloudos.lifebit.ai/app/jobs/606eed7b4f08a000e50e5ee7\n",
    "\n",
    "\n",
    "![](assets/clone-analysis.gif)"
   ]
  },
  {
   "cell_type": "markdown",
   "metadata": {},
   "source": [
    "## Running with my own data? 🤔\n",
    "\n",
    "Feel free to select another genome  or one of the other example input data. \n",
    "\n",
    "\n",
    "ℹ️ **NOTE:**\n",
    "\n",
    "If you don't yet have a JAX CloudOS account for your lab, get in touch via Slack or email to help you raise the ticket with JAX support.\n",
    "Alternatively, you can try to run **locally** or in a **cluster** personal space that you have access."
   ]
  },
  {
   "cell_type": "markdown",
   "metadata": {},
   "source": [
    "# C. Execution across Cloud, Clusters and local machines"
   ]
  },
  {
   "cell_type": "markdown",
   "metadata": {},
   "source": [
    "The same workflow can be ran with minimal configuration adjustments across laptops, SLURM managed clusters and different cloud vendors.\n",
    "\n",
    "Notice above the commands:\n",
    "\n",
    "\n",
    "For Google Cloud we can use a specific configuration file:\n",
    "\n",
    "\n",
    "```bash\n",
    "nextflow run https://github.com/TheJacksonLaboratory/nf-core-rnaseq \\\n",
    "--config 'conf/local.config'\n",
    "```\n",
    "\n",
    "For SLURM managed another:\n",
    "\n",
    "```bash\n",
    "nextflow run https://github.com/TheJacksonLaboratory/nf-core-rnaseq \\\n",
    "--config 'conf/slurm.config'\n",
    "```\n",
    "\n",
    "And also for our local machine, eg. laptop:\n",
    "\n",
    "```bash\n",
    "nextflow run https://github.com/TheJacksonLaboratory/nf-core-rnaseq \\\n",
    "--config 'conf/local.config'\n",
    "```"
   ]
  },
  {
   "cell_type": "markdown",
   "metadata": {},
   "source": [
    "This modification allows us to retain the rest parameters unchanged, allwing for swift change of execution environment"
   ]
  },
  {
   "cell_type": "markdown",
   "metadata": {},
   "source": [
    "### C1 - SLURM Managed cluster\n",
    "\n",
    "The required files are 2:\n",
    "\n",
    "- a pbs submission script\n",
    "- Nextflow config eg. slurm.config\n",
    "\n",
    "\n",
    "#### Contents of pbs submission script\n",
    "\n",
    "\n",
    "```bash\n",
    "\n",
    "#!/bin/bash\n",
    "#SBATCH -o logs.%j.out\n",
    "#SBATCH -e logs.%j.err\n",
    "#SBATCH --mail-type=END,FAIL\n",
    "#SBATCH --mail-user=$USER@my-org.org\n",
    "#SBATCH --mem=20000\n",
    "#SBATCH --cpus-per-task=4\n",
    "#SBATCH -p compute\n",
v    "#SBATCH -q batch\n",
    "#SBATCH -t 3-00:00:00 \n",
    "\n",
    "cd $SLURM_SUBMIT_DIR\n",
    "date;hostname;pwd\n",
    "\n",
    "module load singularity\n",
    "\n",
    "curl -fsSL https://get.nextflow.io | bash\n",
    "\n",
    "./nextflow run /absolut/path/to/pipeline/repo/main.nf --outdir ${SLURM_SUBMIT_DIR} --param1 param1_value\n",
    "\n",
    "```\n",
    "\n",
    "\n",
    "\n",
    "\n"
   ]
  },
  {
   "cell_type": "markdown",
   "metadata": {},
   "source": [
    "#### Contents of nextflow config for SLURM managed cluster\n",
    "\n",
    "- Sungularity enabled\n",
    "\n",
    "```groovy\n",
    "/*\n",
    " * -------------------------------------------------\n",
    " *  Nextflow config file for running on a SLURM managed cluster\n",
    " * -------------------------------------------------\n",
    " */\n",
    "\n",
    "process {\n",
    "  executor = 'slurm'\n",
    "  beforeScript = 'module load singularity'\n",
    "}\n",
    "singularity {\n",
    "  enabled = true\n",
    "  autoMounts = true\n",
    "}\n",
    "\n",
    "```"
   ]
  },
  {
   "cell_type": "markdown",
   "metadata": {},
   "source": [
    "### C2 - Google Cloud config\n",
    "\n",
    "#### Contents of config\n",
    "\n",
    "\n",
    "```groovy\n",
    "\n",
    "// This config is specific to google-life-science\n",
    "\n",
    "includeConfig 'base.config'\n",
    "\n",
    "google {\n",
    "    lifeSciences.bootDiskSize = 50.GB\n",
    "    lifeSciences.preemptible = true\n",
    "    zone = params.gls_zone\n",
    "    network = params.gls_network\n",
    "    subnetwork = params.gls_subnetwork\n",
    "}\n",
    "\n",
    "docker.enabled = true\n",
    "\n",
    "executor {\n",
    "    name = 'google-lifesciences'\n",
    "}\n",
    "```\n"
   ]
  },
  {
   "cell_type": "markdown",
   "metadata": {},
   "source": [
    "### C3 - Local config for laptops\n",
    "\n",
    "#### Contents of config\n",
    "\n",
    "\n",
    "\n",
    "```\n",
    "/*\n",
    " * -------------------------------------------------\n",
    " *  Nextflow config file for running on a local machine eg. laptop\n",
    " * -------------------------------------------------\n",
    " */\n",
    "\n",
    "docker.enabled = true\n",
    "\n",
    "params {\n",
    "    executor = 'local'\n",
    "}\n",
    "\n",
    "\n",
    "```"
   ]
  }
 ],
 "metadata": {
  "kernelspec": {
   "display_name": "Bash",
   "language": "bash",
   "name": "bash"
  },
  "language_info": {
   "codemirror_mode": "shell",
   "file_extension": ".sh",
   "mimetype": "text/x-sh",
   "name": "bash"
  }
 },
 "nbformat": 4,
 "nbformat_minor": 4
 }
  
